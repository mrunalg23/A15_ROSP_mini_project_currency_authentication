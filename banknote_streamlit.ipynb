{
  "nbformat": 4,
  "nbformat_minor": 0,
  "metadata": {
    "colab": {
      "provenance": [],
      "collapsed_sections": []
    },
    "kernelspec": {
      "name": "python3",
      "display_name": "Python 3"
    },
    "language_info": {
      "name": "python"
    }
  },
  "cells": [
    {
      "cell_type": "code",
      "source": [],
      "metadata": {
        "id": "ankANRxloB_r"
      },
      "execution_count": null,
      "outputs": []
    },
    {
      "cell_type": "code",
      "source": [
        "pip install streamlit\n"
      ],
      "metadata": {
        "colab": {
          "base_uri": "https://localhost:8080/"
        },
        "id": "KI5-_nWhG317",
        "outputId": "7534ca91-caaf-4392-9a1b-6304f3a1043f"
      },
      "execution_count": null,
      "outputs": [
        {
          "output_type": "stream",
          "name": "stdout",
          "text": [
            "Looking in indexes: https://pypi.org/simple, https://us-python.pkg.dev/colab-wheels/public/simple/\n",
            "Collecting streamlit\n",
            "  Downloading streamlit-1.14.0-py2.py3-none-any.whl (9.2 MB)\n",
            "\u001b[K     |████████████████████████████████| 9.2 MB 26.1 MB/s \n",
            "\u001b[?25hRequirement already satisfied: tornado>=5.0 in /usr/local/lib/python3.7/dist-packages (from streamlit) (5.1.1)\n",
            "Collecting gitpython!=3.1.19\n",
            "  Downloading GitPython-3.1.29-py3-none-any.whl (182 kB)\n",
            "\u001b[K     |████████████████████████████████| 182 kB 99.2 MB/s \n",
            "\u001b[?25hRequirement already satisfied: numpy in /usr/local/lib/python3.7/dist-packages (from streamlit) (1.21.6)\n",
            "Collecting watchdog\n",
            "  Downloading watchdog-2.1.9-py3-none-manylinux2014_x86_64.whl (78 kB)\n",
            "\u001b[K     |████████████████████████████████| 78 kB 7.9 MB/s \n",
            "\u001b[?25hRequirement already satisfied: altair>=3.2.0 in /usr/local/lib/python3.7/dist-packages (from streamlit) (4.2.0)\n",
            "Collecting validators>=0.2\n",
            "  Downloading validators-0.20.0.tar.gz (30 kB)\n",
            "Requirement already satisfied: protobuf<4,>=3.12 in /usr/local/lib/python3.7/dist-packages (from streamlit) (3.17.3)\n",
            "Requirement already satisfied: tzlocal>=1.1 in /usr/local/lib/python3.7/dist-packages (from streamlit) (1.5.1)\n",
            "Collecting pympler>=0.9\n",
            "  Downloading Pympler-1.0.1-py3-none-any.whl (164 kB)\n",
            "\u001b[K     |████████████████████████████████| 164 kB 70.6 MB/s \n",
            "\u001b[?25hRequirement already satisfied: toml in /usr/local/lib/python3.7/dist-packages (from streamlit) (0.10.2)\n",
            "Requirement already satisfied: pandas>=0.21.0 in /usr/local/lib/python3.7/dist-packages (from streamlit) (1.3.5)\n",
            "Collecting blinker>=1.0.0\n",
            "  Downloading blinker-1.5-py2.py3-none-any.whl (12 kB)\n",
            "Requirement already satisfied: python-dateutil in /usr/local/lib/python3.7/dist-packages (from streamlit) (2.8.2)\n",
            "Collecting semver\n",
            "  Downloading semver-2.13.0-py2.py3-none-any.whl (12 kB)\n",
            "Requirement already satisfied: pillow>=6.2.0 in /usr/local/lib/python3.7/dist-packages (from streamlit) (7.1.2)\n",
            "Collecting rich>=10.11.0\n",
            "  Downloading rich-12.6.0-py3-none-any.whl (237 kB)\n",
            "\u001b[K     |████████████████████████████████| 237 kB 62.3 MB/s \n",
            "\u001b[?25hRequirement already satisfied: click>=7.0 in /usr/local/lib/python3.7/dist-packages (from streamlit) (7.1.2)\n",
            "Requirement already satisfied: requests>=2.4 in /usr/local/lib/python3.7/dist-packages (from streamlit) (2.23.0)\n",
            "Requirement already satisfied: pyarrow>=4.0 in /usr/local/lib/python3.7/dist-packages (from streamlit) (6.0.1)\n",
            "Requirement already satisfied: typing-extensions>=3.10.0.0 in /usr/local/lib/python3.7/dist-packages (from streamlit) (4.1.1)\n",
            "Requirement already satisfied: packaging>=14.1 in /usr/local/lib/python3.7/dist-packages (from streamlit) (21.3)\n",
            "Requirement already satisfied: cachetools>=4.0 in /usr/local/lib/python3.7/dist-packages (from streamlit) (4.2.4)\n",
            "Requirement already satisfied: importlib-metadata>=1.4 in /usr/local/lib/python3.7/dist-packages (from streamlit) (4.13.0)\n",
            "Collecting pydeck>=0.1.dev5\n",
            "  Downloading pydeck-0.8.0b4-py2.py3-none-any.whl (4.7 MB)\n",
            "\u001b[K     |████████████████████████████████| 4.7 MB 77.1 MB/s \n",
            "\u001b[?25hRequirement already satisfied: toolz in /usr/local/lib/python3.7/dist-packages (from altair>=3.2.0->streamlit) (0.12.0)\n",
            "Requirement already satisfied: jsonschema>=3.0 in /usr/local/lib/python3.7/dist-packages (from altair>=3.2.0->streamlit) (4.3.3)\n",
            "Requirement already satisfied: jinja2 in /usr/local/lib/python3.7/dist-packages (from altair>=3.2.0->streamlit) (2.11.3)\n",
            "Requirement already satisfied: entrypoints in /usr/local/lib/python3.7/dist-packages (from altair>=3.2.0->streamlit) (0.4)\n",
            "Collecting gitdb<5,>=4.0.1\n",
            "  Downloading gitdb-4.0.9-py3-none-any.whl (63 kB)\n",
            "\u001b[K     |████████████████████████████████| 63 kB 2.2 MB/s \n",
            "\u001b[?25hCollecting smmap<6,>=3.0.1\n",
            "  Downloading smmap-5.0.0-py3-none-any.whl (24 kB)\n",
            "Requirement already satisfied: zipp>=0.5 in /usr/local/lib/python3.7/dist-packages (from importlib-metadata>=1.4->streamlit) (3.10.0)\n",
            "Requirement already satisfied: pyrsistent!=0.17.0,!=0.17.1,!=0.17.2,>=0.14.0 in /usr/local/lib/python3.7/dist-packages (from jsonschema>=3.0->altair>=3.2.0->streamlit) (0.18.1)\n",
            "Requirement already satisfied: importlib-resources>=1.4.0 in /usr/local/lib/python3.7/dist-packages (from jsonschema>=3.0->altair>=3.2.0->streamlit) (5.10.0)\n",
            "Requirement already satisfied: attrs>=17.4.0 in /usr/local/lib/python3.7/dist-packages (from jsonschema>=3.0->altair>=3.2.0->streamlit) (22.1.0)\n",
            "Requirement already satisfied: pyparsing!=3.0.5,>=2.0.2 in /usr/local/lib/python3.7/dist-packages (from packaging>=14.1->streamlit) (3.0.9)\n",
            "Requirement already satisfied: pytz>=2017.3 in /usr/local/lib/python3.7/dist-packages (from pandas>=0.21.0->streamlit) (2022.5)\n",
            "Requirement already satisfied: six>=1.9 in /usr/local/lib/python3.7/dist-packages (from protobuf<4,>=3.12->streamlit) (1.15.0)\n",
            "Requirement already satisfied: MarkupSafe>=0.23 in /usr/local/lib/python3.7/dist-packages (from jinja2->altair>=3.2.0->streamlit) (2.0.1)\n",
            "Requirement already satisfied: certifi>=2017.4.17 in /usr/local/lib/python3.7/dist-packages (from requests>=2.4->streamlit) (2022.9.24)\n",
            "Requirement already satisfied: urllib3!=1.25.0,!=1.25.1,<1.26,>=1.21.1 in /usr/local/lib/python3.7/dist-packages (from requests>=2.4->streamlit) (1.24.3)\n",
            "Requirement already satisfied: idna<3,>=2.5 in /usr/local/lib/python3.7/dist-packages (from requests>=2.4->streamlit) (2.10)\n",
            "Requirement already satisfied: chardet<4,>=3.0.2 in /usr/local/lib/python3.7/dist-packages (from requests>=2.4->streamlit) (3.0.4)\n",
            "Collecting commonmark<0.10.0,>=0.9.0\n",
            "  Downloading commonmark-0.9.1-py2.py3-none-any.whl (51 kB)\n",
            "\u001b[K     |████████████████████████████████| 51 kB 9.5 MB/s \n",
            "\u001b[?25hRequirement already satisfied: pygments<3.0.0,>=2.6.0 in /usr/local/lib/python3.7/dist-packages (from rich>=10.11.0->streamlit) (2.6.1)\n",
            "Requirement already satisfied: decorator>=3.4.0 in /usr/local/lib/python3.7/dist-packages (from validators>=0.2->streamlit) (4.4.2)\n",
            "Building wheels for collected packages: validators\n",
            "  Building wheel for validators (setup.py) ... \u001b[?25l\u001b[?25hdone\n",
            "  Created wheel for validators: filename=validators-0.20.0-py3-none-any.whl size=19582 sha256=68c90f7d50c4655830eecc4e811e7f343826effd05873ea5ac6773b0412a2013\n",
            "  Stored in directory: /root/.cache/pip/wheels/5f/55/ab/36a76989f7f88d9ca7b1f68da6d94252bb6a8d6ad4f18e04e9\n",
            "Successfully built validators\n",
            "Installing collected packages: smmap, gitdb, commonmark, watchdog, validators, semver, rich, pympler, pydeck, gitpython, blinker, streamlit\n",
            "Successfully installed blinker-1.5 commonmark-0.9.1 gitdb-4.0.9 gitpython-3.1.29 pydeck-0.8.0b4 pympler-1.0.1 rich-12.6.0 semver-2.13.0 smmap-5.0.0 streamlit-1.14.0 validators-0.20.0 watchdog-2.1.9\n"
          ]
        }
      ]
    },
    {
      "cell_type": "code",
      "source": [
        "import streamlit as st\n",
        "!pip install pyngrok"
      ],
      "metadata": {
        "colab": {
          "base_uri": "https://localhost:8080/"
        },
        "id": "Wx59Hb-LHEGe",
        "outputId": "277abd51-480a-4f22-b4d1-ce23254cc32f"
      },
      "execution_count": null,
      "outputs": [
        {
          "output_type": "stream",
          "name": "stdout",
          "text": [
            "Looking in indexes: https://pypi.org/simple, https://us-python.pkg.dev/colab-wheels/public/simple/\n",
            "Collecting pyngrok\n",
            "  Downloading pyngrok-5.1.0.tar.gz (745 kB)\n",
            "\u001b[K     |████████████████████████████████| 745 kB 34.0 MB/s \n",
            "\u001b[?25hRequirement already satisfied: PyYAML in /usr/local/lib/python3.7/dist-packages (from pyngrok) (6.0)\n",
            "Building wheels for collected packages: pyngrok\n",
            "  Building wheel for pyngrok (setup.py) ... \u001b[?25l\u001b[?25hdone\n",
            "  Created wheel for pyngrok: filename=pyngrok-5.1.0-py3-none-any.whl size=19007 sha256=385483cb06c043c603276bd620fba059ca400d990c01bf91110259d96db69145\n",
            "  Stored in directory: /root/.cache/pip/wheels/bf/e6/af/ccf6598ecefecd44104069371795cb9b3afbcd16987f6ccfb3\n",
            "Successfully built pyngrok\n",
            "Installing collected packages: pyngrok\n",
            "Successfully installed pyngrok-5.1.0\n"
          ]
        }
      ]
    },
    {
      "cell_type": "code",
      "source": [
        "%%writefile app.py\n",
        "import pandas as pd\n",
        "import numpy as np\n",
        "import pandas as pd\n",
        "import pickle\n",
        "import streamlit as st\n",
        "\n",
        "from PIL import Image\n",
        "\n",
        "pickle_in=open('SVC_model.pkl','rb') #read-byte mode\n",
        "classifier=pickle.load(pickle_in)\n",
        "\n",
        "def welcome():\n",
        "    return \"Welcome all\"\n",
        "\n",
        "def predict_note_authentication(variance,skewness,curtosis,entropy):\n",
        "    \"\"\"Let's Authenticate the Banks Note \n",
        "    This is using docstrings for specifications.\n",
        "    ---\n",
        "    parameters:  \n",
        "      - name: variance\n",
        "        in: query\n",
        "        type: number\n",
        "        required: true\n",
        "      - name: skewness\n",
        "        in: query\n",
        "        type: number\n",
        "        required: true\n",
        "      - name: curtosis\n",
        "        in: query\n",
        "        type: number\n",
        "        required: true\n",
        "      - name: entropy\n",
        "        in: query\n",
        "        type: number\n",
        "        required: true\n",
        "    responses:\n",
        "        200:\n",
        "            description: The output values\n",
        "        \n",
        "    \"\"\"\n",
        "    prediction=classifier.predict([[variance,skewness,curtosis,entropy]])\n",
        "    #predict() requires 2-d matrix hence double [] braces\n",
        "    print(prediction)\n",
        "    return prediction\n",
        "\n",
        "def main():\n",
        "    \n",
        "    html_temp=\"\"\"\n",
        "   \n",
        "    <div style=\"background-color:tomato;padding:10px\">\n",
        "    <h2 style=\"color:white;text-align:center;\"> Bank Authenticator ML App </h2>\n",
        "    </div>\n",
        "    \"\"\"\n",
        "    st.markdown(html_temp, unsafe_allow_html=True)\n",
        "    variance=st.text_input(\"Variance\",\"\")\n",
        "    skewness=st.text_input(\"Skewness\",\"\")\n",
        "    curtosis=st.text_input(\"Curtosis\",\"\")\n",
        "    entropy=st.text_input(\"Entropy\",\"\")\n",
        "    result=\"\" \n",
        "    #empty variable--will be updated to 0 or 1 \n",
        "    if st.button(\"Predict\"):\n",
        "        result=predict_note_authentication(variance,skewness,curtosis,entropy)\n",
        "        \n",
        "        \n",
        "    if (result):\n",
        "      st.success('It is a real note')\n",
        "    else:\n",
        "      st.success('It is a fake note')\n",
        "    if st.button(\"About\"):\n",
        "        st.text(\"Lets Learn\")\n",
        "        st.text(\"Built with Streamlit\")\n",
        "        \n",
        "if __name__=='__main__':\n",
        "    main()"
      ],
      "metadata": {
        "colab": {
          "base_uri": "https://localhost:8080/"
        },
        "id": "BGNEZkLUi-mY",
        "outputId": "ceae5245-273b-4cdc-c6d2-d2351e15495d"
      },
      "execution_count": null,
      "outputs": [
        {
          "output_type": "stream",
          "name": "stdout",
          "text": [
            "Overwriting app.py\n"
          ]
        }
      ]
    },
    {
      "cell_type": "code",
      "source": [
        "!ls"
      ],
      "metadata": {
        "colab": {
          "base_uri": "https://localhost:8080/"
        },
        "id": "iMWQKUf4HQlS",
        "outputId": "54fe8f75-3134-4830-f113-dcbf43215ef5"
      },
      "execution_count": null,
      "outputs": [
        {
          "output_type": "stream",
          "name": "stdout",
          "text": [
            "app.py\tsample_data  SVC_model.pkl  SVC_model.sav\n"
          ]
        }
      ]
    },
    {
      "cell_type": "code",
      "source": [
        "from pyngrok import ngrok \n",
        "ngrok.set_auth_token(\"2DU7wxfLvpxPdpiwOFdQTTvndpX_3eVCU4QPD4owbbK9nz6w\")"
      ],
      "metadata": {
        "colab": {
          "base_uri": "https://localhost:8080/"
        },
        "id": "ZyJGd0ecHUCU",
        "outputId": "51472368-a9f8-403d-dd36-67ba19bdf965"
      },
      "execution_count": null,
      "outputs": [
        {
          "output_type": "stream",
          "name": "stdout",
          "text": []
        },
        {
          "output_type": "stream",
          "name": "stderr",
          "text": [
            "INFO:pyngrok.process:Updating authtoken for default \"config_path\" of \"ngrok_path\": /usr/local/lib/python3.7/dist-packages/pyngrok/bin/ngrok\n",
            "2022-11-02 19:38:26.076 INFO    pyngrok.process: Updating authtoken for default \"config_path\" of \"ngrok_path\": /usr/local/lib/python3.7/dist-packages/pyngrok/bin/ngrok\n"
          ]
        }
      ]
    },
    {
      "cell_type": "code",
      "source": [
        "!nohup streamlit run app.py --server.port 80 &\n",
        "url = ngrok.connect(port='80')"
      ],
      "metadata": {
        "colab": {
          "base_uri": "https://localhost:8080/"
        },
        "id": "nkSiH3ZFHbMB",
        "outputId": "cf33cd60-b2e5-4e36-b7dd-8d9afac4d4e0"
      },
      "execution_count": null,
      "outputs": [
        {
          "output_type": "stream",
          "name": "stdout",
          "text": [
            "nohup: appending output to 'nohup.out'\n"
          ]
        },
        {
          "output_type": "stream",
          "name": "stderr",
          "text": [
            "INFO:pyngrok.ngrok:Opening tunnel named: http-80-fe31b76a-19e7-4513-9907-4f0adc3b74c7\n",
            "2022-11-02 19:38:28.079 INFO    pyngrok.ngrok: Opening tunnel named: http-80-fe31b76a-19e7-4513-9907-4f0adc3b74c7\n",
            "INFO:pyngrok.process.ngrok:t=2022-11-02T19:38:28+0000 lvl=info msg=\"no configuration paths supplied\"\n",
            "2022-11-02 19:38:28.111 INFO    pyngrok.process.ngrok: t=2022-11-02T19:38:28+0000 lvl=info msg=\"no configuration paths supplied\"\n",
            "INFO:pyngrok.process.ngrok:t=2022-11-02T19:38:28+0000 lvl=info msg=\"using configuration at default config path\" path=/root/.ngrok2/ngrok.yml\n",
            "2022-11-02 19:38:28.115 INFO    pyngrok.process.ngrok: t=2022-11-02T19:38:28+0000 lvl=info msg=\"using configuration at default config path\" path=/root/.ngrok2/ngrok.yml\n",
            "INFO:pyngrok.process.ngrok:t=2022-11-02T19:38:28+0000 lvl=info msg=\"open config file\" path=/root/.ngrok2/ngrok.yml err=nil\n",
            "2022-11-02 19:38:28.118 INFO    pyngrok.process.ngrok: t=2022-11-02T19:38:28+0000 lvl=info msg=\"open config file\" path=/root/.ngrok2/ngrok.yml err=nil\n",
            "INFO:pyngrok.process.ngrok:t=2022-11-02T19:38:28+0000 lvl=info msg=\"starting web service\" obj=web addr=127.0.0.1:4040\n",
            "2022-11-02 19:38:28.122 INFO    pyngrok.process.ngrok: t=2022-11-02T19:38:28+0000 lvl=info msg=\"starting web service\" obj=web addr=127.0.0.1:4040\n",
            "INFO:pyngrok.process.ngrok:t=2022-11-02T19:38:28+0000 lvl=info msg=\"tunnel session started\" obj=tunnels.session\n",
            "2022-11-02 19:38:28.218 INFO    pyngrok.process.ngrok: t=2022-11-02T19:38:28+0000 lvl=info msg=\"tunnel session started\" obj=tunnels.session\n",
            "INFO:pyngrok.process.ngrok:t=2022-11-02T19:38:28+0000 lvl=info msg=\"client session established\" obj=csess id=e9a053ef984a\n",
            "2022-11-02 19:38:28.221 INFO    pyngrok.process.ngrok: t=2022-11-02T19:38:28+0000 lvl=info msg=\"client session established\" obj=csess id=e9a053ef984a\n",
            "INFO:pyngrok.process.ngrok:t=2022-11-02T19:38:28+0000 lvl=info msg=start pg=/api/tunnels id=9bc208b839d1d006\n",
            "2022-11-02 19:38:28.236 INFO    pyngrok.process.ngrok: t=2022-11-02T19:38:28+0000 lvl=info msg=start pg=/api/tunnels id=9bc208b839d1d006\n",
            "INFO:pyngrok.process.ngrok:t=2022-11-02T19:38:28+0000 lvl=info msg=end pg=/api/tunnels id=9bc208b839d1d006 status=200 dur=303.28µs\n",
            "2022-11-02 19:38:28.242 INFO    pyngrok.process.ngrok: t=2022-11-02T19:38:28+0000 lvl=info msg=end pg=/api/tunnels id=9bc208b839d1d006 status=200 dur=303.28µs\n",
            "INFO:pyngrok.process.ngrok:t=2022-11-02T19:38:28+0000 lvl=info msg=start pg=/api/tunnels id=5261875314d4bc05\n",
            "2022-11-02 19:38:28.247 INFO    pyngrok.process.ngrok: t=2022-11-02T19:38:28+0000 lvl=info msg=start pg=/api/tunnels id=5261875314d4bc05\n",
            "INFO:pyngrok.process.ngrok:t=2022-11-02T19:38:28+0000 lvl=info msg=end pg=/api/tunnels id=5261875314d4bc05 status=200 dur=82.14µs\n",
            "2022-11-02 19:38:28.252 INFO    pyngrok.process.ngrok: t=2022-11-02T19:38:28+0000 lvl=info msg=end pg=/api/tunnels id=5261875314d4bc05 status=200 dur=82.14µs\n",
            "INFO:pyngrok.process.ngrok:t=2022-11-02T19:38:28+0000 lvl=info msg=start pg=/api/tunnels id=17d536c23c871258\n",
            "2022-11-02 19:38:28.256 INFO    pyngrok.process.ngrok: t=2022-11-02T19:38:28+0000 lvl=info msg=start pg=/api/tunnels id=17d536c23c871258\n",
            "INFO:pyngrok.process.ngrok:t=2022-11-02T19:38:28+0000 lvl=info msg=\"started tunnel\" obj=tunnels name=\"http-80-fe31b76a-19e7-4513-9907-4f0adc3b74c7 (http)\" addr=http://localhost:80 url=http://9458-34-150-191-129.ngrok.io\n",
            "2022-11-02 19:38:28.290 INFO    pyngrok.process.ngrok: t=2022-11-02T19:38:28+0000 lvl=info msg=\"started tunnel\" obj=tunnels name=\"http-80-fe31b76a-19e7-4513-9907-4f0adc3b74c7 (http)\" addr=http://localhost:80 url=http://9458-34-150-191-129.ngrok.io\n",
            "INFO:pyngrok.process.ngrok:t=2022-11-02T19:38:28+0000 lvl=info msg=\"started tunnel\" obj=tunnels name=http-80-fe31b76a-19e7-4513-9907-4f0adc3b74c7 addr=http://localhost:80 url=https://9458-34-150-191-129.ngrok.io\n",
            "2022-11-02 19:38:28.297 INFO    pyngrok.process.ngrok: t=2022-11-02T19:38:28+0000 lvl=info msg=\"started tunnel\" obj=tunnels name=http-80-fe31b76a-19e7-4513-9907-4f0adc3b74c7 addr=http://localhost:80 url=https://9458-34-150-191-129.ngrok.io\n",
            "INFO:pyngrok.process.ngrok:t=2022-11-02T19:38:28+0000 lvl=info msg=end pg=/api/tunnels id=17d536c23c871258 status=201 dur=53.869331ms\n",
            "2022-11-02 19:38:28.300 INFO    pyngrok.process.ngrok: t=2022-11-02T19:38:28+0000 lvl=info msg=end pg=/api/tunnels id=17d536c23c871258 status=201 dur=53.869331ms\n",
            "INFO:pyngrok.process.ngrok:t=2022-11-02T19:38:28+0000 lvl=info msg=start pg=\"/api/tunnels/http-80-fe31b76a-19e7-4513-9907-4f0adc3b74c7 (http)\" id=8fc6bef5ebf34dae\n",
            "2022-11-02 19:38:28.307 INFO    pyngrok.process.ngrok: t=2022-11-02T19:38:28+0000 lvl=info msg=start pg=\"/api/tunnels/http-80-fe31b76a-19e7-4513-9907-4f0adc3b74c7 (http)\" id=8fc6bef5ebf34dae\n",
            "INFO:pyngrok.process.ngrok:t=2022-11-02T19:38:28+0000 lvl=info msg=end pg=\"/api/tunnels/http-80-fe31b76a-19e7-4513-9907-4f0adc3b74c7 (http)\" id=8fc6bef5ebf34dae status=200 dur=123.97µs\n",
            "2022-11-02 19:38:28.312 INFO    pyngrok.process.ngrok: t=2022-11-02T19:38:28+0000 lvl=info msg=end pg=\"/api/tunnels/http-80-fe31b76a-19e7-4513-9907-4f0adc3b74c7 (http)\" id=8fc6bef5ebf34dae status=200 dur=123.97µs\n"
          ]
        }
      ]
    },
    {
      "cell_type": "code",
      "source": [
        "print(url)"
      ],
      "metadata": {
        "colab": {
          "base_uri": "https://localhost:8080/"
        },
        "id": "paaEES3yHh0j",
        "outputId": "42eaae43-ddaf-44d6-a2f9-32a582d2a701"
      },
      "execution_count": null,
      "outputs": [
        {
          "output_type": "stream",
          "name": "stdout",
          "text": [
            "NgrokTunnel: \"http://9458-34-150-191-129.ngrok.io\" -> \"http://localhost:80\"\n"
          ]
        }
      ]
    },
    {
      "cell_type": "code",
      "source": [],
      "metadata": {
        "id": "djxZ687zE_aZ"
      },
      "execution_count": null,
      "outputs": []
    }
  ]
}